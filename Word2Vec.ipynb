{
 "cells": [
  {
   "cell_type": "markdown",
   "id": "b80387ad",
   "metadata": {},
   "source": [
    "### Iimport libraries"
   ]
  },
  {
   "cell_type": "code",
   "execution_count": 1,
   "id": "0113bb10",
   "metadata": {},
   "outputs": [],
   "source": [
    "import numpy as np\n",
    "import pandas as pd\n",
    "import sys\n",
    "import yaml\n",
    "import os\n",
    "import re\n",
    "\n",
    "import nltk\n",
    "from nltk.corpus import PlaintextCorpusReader\n",
    "from nltk.tokenize import word_tokenize\n",
    "from nltk.tokenize import sent_tokenize\n",
    "from nltk.corpus import stopwords\n",
    "\n",
    "import tensorflow as tf\n",
    "from tensorflow import keras\n",
    "from tensorflow.keras import layers\n",
    "from keras.preprocessing import text\n",
    "\n",
    "from itertools import islice\n",
    "\n",
    "import matplotlib.pyplot as plt\n",
    "%matplotlib inline"
   ]
  },
  {
   "cell_type": "markdown",
   "id": "834fdfc9",
   "metadata": {},
   "source": [
    "### Load data"
   ]
  },
  {
   "cell_type": "code",
   "execution_count": 2,
   "id": "c09c6622",
   "metadata": {},
   "outputs": [
    {
     "name": "stdout",
     "output_type": "stream",
     "text": [
      "------------------Head------------------\n",
      "   ARTICLE_ID      TITLE                 SECTION_TITLE  \\\n",
      "0           0  Anarchism                  Introduction   \n",
      "1           0  Anarchism     Etymology and terminology   \n",
      "2           0  Anarchism                       History   \n",
      "3           0  Anarchism  Anarchist schools of thought   \n",
      "4           0  Anarchism   Internal issues and debates   \n",
      "\n",
      "                                        SECTION_TEXT  \n",
      "0  \\n\\n\\n\\n\\n\\n'''Anarchism''' is a political phi...  \n",
      "1  \\n\\nThe term ''anarchism'' is a compound word ...  \n",
      "2  \\n\\n===Origins===\\nWoodcut from a Diggers docu...  \n",
      "3  \\nPortrait of philosopher Pierre-Joseph Proudh...  \n",
      "4  \\nconsistent with anarchist values is a contro...  \n",
      "------------------Tail------------------\n",
      "        ARTICLE_ID              TITLE    SECTION_TITLE  \\\n",
      "265134       30475  Triboluminescence  Further reading   \n",
      "265135       30475  Triboluminescence   External links   \n",
      "265136       30476       Markov chain     Introduction   \n",
      "265137       30476       Markov chain     Introduction   \n",
      "265138       30476       Markov chain          History   \n",
      "\n",
      "                                             SECTION_TEXT  \n",
      "265134                                           * \\n* \\n  \n",
      "265135  \\n* \\n* \\n*  Triboluminescence Discussion on T...  \n",
      "265136  \\nIn probability theory and related fields, a ...  \n",
      "265137  Russian mathematician Andrey Markov.\\nA Markov...  \n",
      "265138  Andrey Markov studied Markov chains in the ear...  \n"
     ]
    }
   ],
   "source": [
    "df = pd.read_csv('enwiki.csv')\n",
    "print('------------------Head------------------')\n",
    "print(df.head())\n",
    "print('------------------Tail------------------')\n",
    "print(df.tail())"
   ]
  },
  {
   "cell_type": "markdown",
   "id": "a7f55548",
   "metadata": {},
   "source": [
    "### Remove unnecessary data from dataFrame"
   ]
  },
  {
   "cell_type": "markdown",
   "id": "795dbd54",
   "metadata": {},
   "source": [
    "# Set constrains for filtering the data"
   ]
  },
  {
   "cell_type": "code",
   "execution_count": 3,
   "id": "fc946361",
   "metadata": {},
   "outputs": [],
   "source": [
    "data_limit = 1000\n",
    "max_sentence_lenght = 1000\n",
    "max_word_count = 100\n",
    "min_word_count = 5\n",
    "max_sentence = 1000\n",
    "vocabulary_size = 100"
   ]
  },
  {
   "cell_type": "code",
   "execution_count": 4,
   "id": "1a027071",
   "metadata": {},
   "outputs": [
    {
     "name": "stdout",
     "output_type": "stream",
     "text": [
      "Total section texts -----> 1000\n"
     ]
    }
   ],
   "source": [
    "df.drop(['ARTICLE_ID', 'TITLE', 'SECTION_TITLE'], axis=1)\n",
    "section_texts = df['SECTION_TEXT'].apply(str)\n",
    "section_texts = section_texts[:data_limit]\n",
    "print('Total section texts ----->', len(section_texts))"
   ]
  },
  {
   "cell_type": "markdown",
   "id": "f7340200",
   "metadata": {},
   "source": [
    "### Convert text to sentences"
   ]
  },
  {
   "cell_type": "code",
   "execution_count": 5,
   "id": "c779773b",
   "metadata": {},
   "outputs": [],
   "source": [
    "sentences = []\n",
    "for texts in section_texts:\n",
    "    for sentence in sent_tokenize(texts):\n",
    "        if len(sentence) < max_sentence_lenght:\n",
    "            sentences.append(sentence.lower())"
   ]
  },
  {
   "cell_type": "code",
   "execution_count": 6,
   "id": "a62ec2df",
   "metadata": {
    "scrolled": true
   },
   "outputs": [
    {
     "name": "stdout",
     "output_type": "stream",
     "text": [
      "Total sentences 18306\n"
     ]
    }
   ],
   "source": [
    "total_sentences = len(sentences)\n",
    "print('Total sentences', total_sentences)"
   ]
  },
  {
   "cell_type": "markdown",
   "id": "929d56d9",
   "metadata": {},
   "source": [
    "### Convert sentences to words and create vocabulary with frequency"
   ]
  },
  {
   "cell_type": "code",
   "execution_count": 7,
   "id": "c794f606",
   "metadata": {
    "scrolled": true
   },
   "outputs": [],
   "source": [
    "stop_words = set(stopwords.words('english'))\n",
    "word_list = []\n",
    "vocabulary_with_frequency = {}\n",
    "\n",
    "for sentence in sentences:\n",
    "    words = word_tokenize(sentence)\n",
    "    words_without_stop_words = [word for word in words if word.isalpha() and word not in stop_words and len(word) != 1]\n",
    "    \n",
    "    word_lenght = len(words_without_stop_words)\n",
    "    if word_lenght <= max_word_count and word_lenght >= min_word_count:\n",
    "        word_list.append(words_without_stop_words)\n",
    "        \n",
    "        for word in words_without_stop_words:\n",
    "            if word not in vocabulary_with_frequency.keys():\n",
    "                vocabulary_with_frequency[word] = 1\n",
    "            else:\n",
    "                vocabulary_with_frequency[word] += 1"
   ]
  },
  {
   "cell_type": "markdown",
   "id": "0015c0bd",
   "metadata": {},
   "source": [
    "### Total words and vocabulary size"
   ]
  },
  {
   "cell_type": "code",
   "execution_count": 8,
   "id": "8c459fec",
   "metadata": {
    "scrolled": true
   },
   "outputs": [
    {
     "name": "stdout",
     "output_type": "stream",
     "text": [
      "Total words in corpus 216122\n",
      "Total unique words in vocabulary 28802\n"
     ]
    }
   ],
   "source": [
    "# After filtering the words\n",
    "total_sentences = len(word_list)\n",
    "\n",
    "total_words = 0\n",
    "for words in word_list:\n",
    "    total_words += len(words)\n",
    "print('Total words in corpus', total_words)\n",
    "print('Total unique words in vocabulary', len(vocabulary_with_frequency))"
   ]
  },
  {
   "cell_type": "code",
   "execution_count": 9,
   "id": "ebb1bcad",
   "metadata": {},
   "outputs": [],
   "source": [
    "sorted_vocabulary_with_frequency = sorted(vocabulary_with_frequency.items(), key=lambda x: x[1], reverse=True)"
   ]
  },
  {
   "cell_type": "markdown",
   "id": "450b6cc6",
   "metadata": {},
   "source": [
    "### Remove less freuquent word form dictionary and assign unique id to vocabulary word\n",
    "\n",
    "\n",
    "<br> \n",
    "Create two vocabulary.<br> \n",
    "<b>word_to_id</b> for gettig the word for an id. <br>\n",
    "<b>id_to_word</b> for gettign the id for word. <br>\n",
    "</br>\n"
   ]
  },
  {
   "cell_type": "code",
   "execution_count": 10,
   "id": "2588df39",
   "metadata": {
    "scrolled": false
   },
   "outputs": [
    {
     "name": "stdout",
     "output_type": "stream",
     "text": [
      "[(0, 'PAD'), ('also', 1), ('one', 2), ('first', 3), ('used', 4), ('state', 5), ('may', 6), ('two', 7), ('many', 8), ('states', 9), ('apollo', 10), ('time', 11), ('new', 12), ('lincoln', 13), ('would', 14)]\n",
      "-------------------------------------\n",
      "[('PAD', 0), (1, 'also'), (2, 'one'), (3, 'first'), (4, 'used'), (5, 'state'), (6, 'may'), (7, 'two'), (8, 'many'), (9, 'states'), (10, 'apollo'), (11, 'time'), (12, 'new'), (13, 'lincoln'), (14, 'would')]\n"
     ]
    }
   ],
   "source": [
    "word_to_id = {}\n",
    "word_to_id[0] = 'PAD'\n",
    "id_to_word = {}\n",
    "id_to_word['PAD'] = 0\n",
    "word_id = 1\n",
    "\n",
    "for word, _ in sorted_vocabulary_with_frequency:\n",
    "    if word_id < vocabulary_size:\n",
    "        word_to_id[word] = word_id\n",
    "        id_to_word[word_id] = word\n",
    "        word_id += 1\n",
    "        \n",
    "print(list(islice(word_to_id.items(), 15)))\n",
    "print('-------------------------------------')\n",
    "print(list(islice(id_to_word.items(), 15)))"
   ]
  },
  {
   "cell_type": "code",
   "execution_count": 11,
   "id": "92629475",
   "metadata": {},
   "outputs": [
    {
     "name": "stdout",
     "output_type": "stream",
     "text": [
      "New dictionary size 100\n"
     ]
    }
   ],
   "source": [
    "print('New dictionary size', vocabulary_size)"
   ]
  },
  {
   "cell_type": "markdown",
   "id": "82b3b870",
   "metadata": {},
   "source": [
    "### Convert word_list to word_id_list for expressign the words of a sentece using vocabulary id\n",
    "\n",
    "<br> Remove the words which are not present in dictionary</br>"
   ]
  },
  {
   "cell_type": "code",
   "execution_count": 12,
   "id": "c02693f0",
   "metadata": {
    "scrolled": false
   },
   "outputs": [
    {
     "name": "stdout",
     "output_type": "stream",
     "text": [
      "Before filtering total sentenc 16514\n",
      "Before filtering total words 216122\n",
      "--------------------------------------------\n",
      "After filtering total sentenc 1022\n",
      "After filtering total words 6307\n"
     ]
    }
   ],
   "source": [
    "print('Before filtering total sentenc', total_sentences)\n",
    "print('Before filtering total words', total_words)\n",
    "\n",
    "sentece_word_ids = []\n",
    "total_sentences = 0\n",
    "total_words = 0\n",
    "\n",
    "for words in word_list:\n",
    "    filtered_words_ids = [word_to_id[word] for word in words if word in word_to_id.keys()]\n",
    "    words_in_current_sentece = len(filtered_words_ids)\n",
    "    \n",
    "    if words_in_current_sentece >= min_word_count:\n",
    "        total_sentences += 1\n",
    "        total_words += words_in_current_sentece\n",
    "        sentece_word_ids.append(filtered_words_ids)\n",
    "        \n",
    "print('--------------------------------------------')\n",
    "print('After filtering total sentenc', total_sentences)\n",
    "print('After filtering total words', total_words)"
   ]
  },
  {
   "cell_type": "markdown",
   "id": "211b3a88",
   "metadata": {},
   "source": [
    "### Untill Now \n",
    "<br> \n",
    "<b>sentece_word_ids:</b> Sentence wise words's id. <br>\n",
    "<b>word_to_id:</b> Vocabulary for getting the <b>word_id</b> for a <b>word</b>.<br>\n",
    "<b>id_to_word:</b> Vocabulary for getting the <b>word</b> for a <b> word_id</b>.<br>\n",
    "<b>positive_skip_grams:</b> skipgrams of target and context word pairs.\n",
    "</br>"
   ]
  },
  {
   "cell_type": "code",
   "execution_count": 13,
   "id": "da05f647",
   "metadata": {
    "scrolled": false
   },
   "outputs": [
    {
     "name": "stdout",
     "output_type": "stream",
     "text": [
      "Total senteces 1022\n",
      "Total words 6307\n",
      "Total unique words in vocabulary 100\n"
     ]
    }
   ],
   "source": [
    "print('Total senteces', total_sentences)\n",
    "print('Total words', total_words)\n",
    "vocabulary_size = len(word_to_id)\n",
    "print('Total unique words in vocabulary', vocabulary_size)"
   ]
  },
  {
   "cell_type": "markdown",
   "id": "a1bedcf3",
   "metadata": {},
   "source": [
    "### Save data for later use\n",
    "<br> It will help use to skip the data processing step"
   ]
  },
  {
   "cell_type": "code",
   "execution_count": 14,
   "id": "78be2c20",
   "metadata": {},
   "outputs": [],
   "source": [
    "def save_data(data, to_file):\n",
    "    if os.path.exists(to_file+'.yaml'):\n",
    "        os.remove(to_file+'.yaml')\n",
    "    \n",
    "    with open(to_file+'.yaml', 'w') as file:\n",
    "        documents = yaml.dump(data, file, sort_keys=False)\n",
    "    \n",
    "def load_data(from_file):\n",
    "    with open(from_file+'.yaml') as file:\n",
    "        return yaml.load(file, Loader=yaml.FullLoader)"
   ]
  },
  {
   "cell_type": "markdown",
   "id": "a2f7c7fc",
   "metadata": {},
   "source": [
    "### Save"
   ]
  },
  {
   "cell_type": "code",
   "execution_count": 15,
   "id": "b0f86fad",
   "metadata": {},
   "outputs": [],
   "source": [
    "save_data(word_to_id, 'word_to_id')\n",
    "save_data(id_to_word, 'id_to_word')\n",
    "save_data(sentece_word_ids, 'sentece_word_ids')\n",
    "# save_data(positive_skip_grams, 'positive_skip_grams')"
   ]
  },
  {
   "cell_type": "markdown",
   "id": "ca271ed1",
   "metadata": {},
   "source": [
    "# ⚠️⚠️⚠️ Reset Everything ⚠️⚠️⚠️"
   ]
  },
  {
   "cell_type": "code",
   "execution_count": 16,
   "id": "2dd4a9ef",
   "metadata": {},
   "outputs": [
    {
     "name": "stdout",
     "output_type": "stream",
     "text": [
      "Once deleted, variables cannot be recovered. Proceed (y/[n])? y\n"
     ]
    }
   ],
   "source": [
    "%reset"
   ]
  },
  {
   "cell_type": "markdown",
   "id": "b7b8e0a5",
   "metadata": {},
   "source": [
    "# Start again 🏃‍♂️🏃‍♂️🏃‍♂️"
   ]
  },
  {
   "cell_type": "code",
   "execution_count": 17,
   "id": "6ee5f918",
   "metadata": {},
   "outputs": [],
   "source": [
    "import numpy as np\n",
    "import pandas as pd\n",
    "import sys\n",
    "import yaml\n",
    "import os\n",
    "import io\n",
    "\n",
    "import nltk\n",
    "from nltk.corpus import PlaintextCorpusReader\n",
    "from nltk.tokenize import word_tokenize\n",
    "from nltk.tokenize import sent_tokenize\n",
    "from nltk.corpus import stopwords\n",
    "\n",
    "import tensorflow as tf\n",
    "from tensorflow import keras\n",
    "\n",
    "from tensorflow.keras import layers\n",
    "from keras.preprocessing import text\n",
    "\n",
    "from itertools import islice\n",
    "from sklearn.model_selection import train_test_split\n",
    "\n",
    "from tensorflow.keras.layers import Embedding, Input, Dense, Dropout\n",
    "from tensorflow.keras.models import Model\n",
    "from tensorflow.keras import losses, optimizers\n",
    "from tensorflow.keras.activations import softmax"
   ]
  },
  {
   "cell_type": "code",
   "execution_count": 18,
   "id": "bbfdc047",
   "metadata": {},
   "outputs": [],
   "source": [
    "def save_data(data, to_file):\n",
    "    if os.path.exists(to_file+'.yaml'):\n",
    "        os.remove('id_to_word.yaml')\n",
    "    \n",
    "    with open(to_file+'.yaml', 'w') as file:\n",
    "        documents = yaml.dump(data, file, sort_keys=False)\n",
    "    \n",
    "def load_data(from_file):\n",
    "    with open(from_file+'.yaml') as file:\n",
    "        return yaml.load(file, Loader=yaml.FullLoader)"
   ]
  },
  {
   "cell_type": "markdown",
   "id": "2e5b374e",
   "metadata": {},
   "source": [
    "### Load data"
   ]
  },
  {
   "cell_type": "code",
   "execution_count": 19,
   "id": "1927780d",
   "metadata": {},
   "outputs": [],
   "source": [
    "id_to_word = load_data('id_to_word')\n",
    "word_to_id = load_data('word_to_id')\n",
    "sentece_word_ids = load_data('sentece_word_ids')\n",
    "# positive_skip_grams = load_data('positive_skip_grams')\n",
    "vocabulary_size = len(word_to_id)"
   ]
  },
  {
   "cell_type": "markdown",
   "id": "4de1005f",
   "metadata": {},
   "source": [
    "#### Example after loadign data"
   ]
  },
  {
   "cell_type": "code",
   "execution_count": 20,
   "id": "ec6d81a6",
   "metadata": {
    "scrolled": false
   },
   "outputs": [
    {
     "name": "stdout",
     "output_type": "stream",
     "text": [
      "[('PAD', 0), (1, 'also'), (2, 'one'), (3, 'first'), (4, 'used'), (5, 'state'), (6, 'may'), (7, 'two'), (8, 'many'), (9, 'states')]\n",
      "------------------------------------------\n",
      "[(0, 'PAD'), ('also', 1), ('one', 2), ('first', 3), ('used', 4), ('state', 5), ('may', 6), ('two', 7), ('many', 8), ('states', 9)]\n",
      "------------------------------------------\n",
      "[[14, 8, 27, 21, 16], [31, 36, 4, 4, 29, 9, 16, 85, 29, 9], [82, 3, 92, 91, 66, 27], [5, 41, 2, 88, 11], [78, 43, 3, 78, 29, 37, 88]]\n",
      "------------------------------------------\n"
     ]
    }
   ],
   "source": [
    "print(list(islice(id_to_word.items(), 10)))\n",
    "print('------------------------------------------')\n",
    "print(list(islice(word_to_id.items(), 10)))\n",
    "print('------------------------------------------')\n",
    "print(sentece_word_ids[:5])\n",
    "print('------------------------------------------')"
   ]
  },
  {
   "cell_type": "markdown",
   "id": "5db7807d",
   "metadata": {},
   "source": [
    "# Function for getting the one hot encoded vector"
   ]
  },
  {
   "cell_type": "code",
   "execution_count": 21,
   "id": "805820bf",
   "metadata": {
    "scrolled": true
   },
   "outputs": [],
   "source": [
    "def get_encoded_vector_for(word_id):\n",
    "    lst = [0 for _ in range(vocabulary_size)]\n",
    "    lst[word_id] = 1\n",
    "    return lst"
   ]
  },
  {
   "cell_type": "code",
   "execution_count": 22,
   "id": "9aea7804",
   "metadata": {
    "scrolled": true
   },
   "outputs": [
    {
     "name": "stdout",
     "output_type": "stream",
     "text": [
      "(32410, 100)\n",
      "100\n"
     ]
    }
   ],
   "source": [
    "X = []\n",
    "Y = []\n",
    "\n",
    "for ids in sentece_word_ids:\n",
    "    skip, _ = tf.keras.preprocessing.sequence.skipgrams(\n",
    "        ids,\n",
    "        vocabulary_size,\n",
    "        window_size=5, negative_samples=0,\n",
    "        shuffle=False,\n",
    "        categorical=True)\n",
    "    for target, context in skip:\n",
    "        X.append(get_encoded_vector_for(target))\n",
    "        Y.append(get_encoded_vector_for(context))\n",
    "print(np.array(X).shape)\n",
    "print(vocabulary_size)"
   ]
  },
  {
   "cell_type": "code",
   "execution_count": 23,
   "id": "10e5d912",
   "metadata": {},
   "outputs": [],
   "source": [
    "X_train, X_test, Y_train, Y_test = train_test_split(X, Y, test_size=0.2, random_state=42)"
   ]
  },
  {
   "cell_type": "code",
   "execution_count": 24,
   "id": "1c8f61ce",
   "metadata": {},
   "outputs": [
    {
     "name": "stdout",
     "output_type": "stream",
     "text": [
      "[PhysicalDevice(name='/physical_device:GPU:0', device_type='GPU')]\n"
     ]
    }
   ],
   "source": [
    "physical_devices = tf.config.list_physical_devices('GPU')\n",
    "print(physical_devices)\n",
    "tf.config.experimental.set_memory_growth(physical_devices[0], True)"
   ]
  },
  {
   "cell_type": "code",
   "execution_count": 25,
   "id": "0ea34f8e",
   "metadata": {
    "scrolled": true
   },
   "outputs": [
    {
     "name": "stdout",
     "output_type": "stream",
     "text": [
      "Metal device set to: Apple M1\n",
      "Model: \"model\"\n",
      "_________________________________________________________________\n",
      "Layer (type)                 Output Shape              Param #   \n",
      "=================================================================\n",
      "input_1 (InputLayer)         [(None, 100)]             0         \n",
      "_________________________________________________________________\n",
      "w2v_embedding (Dense)        (None, 200)               20200     \n",
      "_________________________________________________________________\n",
      "dense (Dense)                (None, 100)               20100     \n",
      "=================================================================\n",
      "Total params: 40,300\n",
      "Trainable params: 40,300\n",
      "Non-trainable params: 0\n",
      "_________________________________________________________________\n"
     ]
    },
    {
     "name": "stderr",
     "output_type": "stream",
     "text": [
      "2021-11-17 01:29:02.295962: I tensorflow/core/common_runtime/pluggable_device/pluggable_device_factory.cc:305] Could not identify NUMA node of platform GPU ID 0, defaulting to 0. Your kernel may not have been built with NUMA support.\n",
      "2021-11-17 01:29:02.296059: I tensorflow/core/common_runtime/pluggable_device/pluggable_device_factory.cc:271] Created TensorFlow device (/job:localhost/replica:0/task:0/device:GPU:0 with 0 MB memory) -> physical PluggableDevice (device: 0, name: METAL, pci bus id: <undefined>)\n"
     ]
    }
   ],
   "source": [
    "inp = Input(shape=(vocabulary_size, ))\n",
    "x = Dense(200, name='w2v_embedding')(inp)\n",
    "x = Dense(vocabulary_size, activation='softmax')(x)\n",
    "\n",
    "model = Model(inputs=inp, outputs=x)\n",
    "model.summary()"
   ]
  },
  {
   "cell_type": "code",
   "execution_count": 26,
   "id": "059b073d",
   "metadata": {},
   "outputs": [
    {
     "name": "stdout",
     "output_type": "stream",
     "text": [
      "Epoch 1/3\n",
      "\r",
      "  1/130 [..............................] - ETA: 21s - loss: 4.6088 - accuracy: 0.0050"
     ]
    },
    {
     "name": "stderr",
     "output_type": "stream",
     "text": [
      "2021-11-17 01:29:10.554374: I tensorflow/compiler/mlir/mlir_graph_optimization_pass.cc:185] None of the MLIR Optimization Passes are enabled (registered 2)\n",
      "2021-11-17 01:29:10.554562: W tensorflow/core/platform/profile_utils/cpu_utils.cc:128] Failed to get CPU frequency: 0 Hz\n",
      "2021-11-17 01:29:10.657847: I tensorflow/core/grappler/optimizers/custom_graph_optimizer_registry.cc:112] Plugin optimizer for device_type GPU is enabled.\n"
     ]
    },
    {
     "name": "stdout",
     "output_type": "stream",
     "text": [
      "130/130 [==============================] - 1s 5ms/step - loss: 4.3962 - accuracy: 0.1171\n",
      "Epoch 2/3\n",
      "130/130 [==============================] - 1s 5ms/step - loss: 4.0397 - accuracy: 0.1549\n",
      "Epoch 3/3\n",
      "130/130 [==============================] - 1s 5ms/step - loss: 3.9006 - accuracy: 0.1677\n"
     ]
    },
    {
     "data": {
      "text/plain": [
       "<keras.callbacks.History at 0x298d2c1f0>"
      ]
     },
     "execution_count": 26,
     "metadata": {},
     "output_type": "execute_result"
    }
   ],
   "source": [
    "model.compile(loss=losses.categorical_crossentropy, optimizer='adam', metrics=['accuracy'])\n",
    "model.fit(X_train, Y_train, epochs = 3, batch_size=200, verbose=1, shuffle=True)"
   ]
  },
  {
   "cell_type": "code",
   "execution_count": 27,
   "id": "aea9097f",
   "metadata": {},
   "outputs": [],
   "source": [
    "weights = model.get_layer('w2v_embedding').get_weights()[0]"
   ]
  },
  {
   "cell_type": "code",
   "execution_count": 28,
   "id": "c573bfa1",
   "metadata": {
    "scrolled": true
   },
   "outputs": [],
   "source": [
    "if os.path.exists('metadata.tsv'):\n",
    "        os.remove('metadata.tsv')\n",
    "        \n",
    "if os.path.exists('vectors.tsv'):\n",
    "        os.remove('vectors.tsv')"
   ]
  },
  {
   "cell_type": "code",
   "execution_count": 29,
   "id": "54e4752c",
   "metadata": {},
   "outputs": [],
   "source": [
    "out_v = io.open('vectors.tsv', 'w', encoding='utf-8')\n",
    "out_m = io.open('metadata.tsv', 'w', encoding='utf-8')"
   ]
  },
  {
   "cell_type": "code",
   "execution_count": 30,
   "id": "805531ca",
   "metadata": {},
   "outputs": [],
   "source": [
    "for index in range(1, vocabulary_size):\n",
    "    vec = weights[index]\n",
    "    out_v.write('\\t'.join([str(x) for x in vec]) + \"\\n\")\n",
    "    out_m.write(id_to_word[index] + \"\\n\")\n",
    "out_v.close()\n",
    "out_m.close()\n",
    "   "
   ]
  }
 ],
 "metadata": {
  "kernelspec": {
   "display_name": "Python [conda env:tensorflowEnv] *",
   "language": "python",
   "name": "conda-env-tensorflowEnv-py"
  },
  "language_info": {
   "codemirror_mode": {
    "name": "ipython",
    "version": 3
   },
   "file_extension": ".py",
   "mimetype": "text/x-python",
   "name": "python",
   "nbconvert_exporter": "python",
   "pygments_lexer": "ipython3",
   "version": "3.8.12"
  }
 },
 "nbformat": 4,
 "nbformat_minor": 5
}

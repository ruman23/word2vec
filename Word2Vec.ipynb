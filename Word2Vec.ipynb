{
 "cells": [
  {
   "cell_type": "markdown",
   "id": "b80387ad",
   "metadata": {},
   "source": [
    "### Iimport libraries"
   ]
  },
  {
   "cell_type": "code",
   "execution_count": 56,
   "id": "0113bb10",
   "metadata": {},
   "outputs": [],
   "source": [
    "import numpy as np\n",
    "import pandas as pd\n",
    "import sys\n",
    "import yaml\n",
    "import os\n",
    "import re\n",
    "import io\n",
    "\n",
    "import nltk\n",
    "from nltk.corpus import PlaintextCorpusReader\n",
    "from nltk.tokenize import word_tokenize\n",
    "from nltk.tokenize import sent_tokenize\n",
    "from nltk.corpus import stopwords\n",
    "\n",
    "import tensorflow as tf\n",
    "from tensorflow import keras\n",
    "from tensorflow.keras import layers\n",
    "from tensorflow.keras.layers import Embedding, Input, Dense, Dropout\n",
    "from keras.preprocessing import text\n",
    "from tensorflow.keras.models import Model\n",
    "from tensorflow.keras import losses, optimizers\n",
    "from tensorflow.keras.activations import softmax\n",
    "from keras.preprocessing import sequence\n",
    "\n",
    "\n",
    "from itertools import islice\n",
    "\n",
    "from sklearn.model_selection import train_test_split\n",
    "\n",
    "import matplotlib.pyplot as plt\n",
    "%matplotlib inline"
   ]
  },
  {
   "cell_type": "markdown",
   "id": "834fdfc9",
   "metadata": {},
   "source": [
    "### Load data"
   ]
  },
  {
   "cell_type": "code",
   "execution_count": 57,
   "id": "c09c6622",
   "metadata": {},
   "outputs": [
    {
     "name": "stdout",
     "output_type": "stream",
     "text": [
      "------------------Head------------------\n",
      "   ARTICLE_ID      TITLE                 SECTION_TITLE  \\\n",
      "0           0  Anarchism                  Introduction   \n",
      "1           0  Anarchism     Etymology and terminology   \n",
      "2           0  Anarchism                       History   \n",
      "3           0  Anarchism  Anarchist schools of thought   \n",
      "4           0  Anarchism   Internal issues and debates   \n",
      "\n",
      "                                        SECTION_TEXT  \n",
      "0  \\n\\n\\n\\n\\n\\n'''Anarchism''' is a political phi...  \n",
      "1  \\n\\nThe term ''anarchism'' is a compound word ...  \n",
      "2  \\n\\n===Origins===\\nWoodcut from a Diggers docu...  \n",
      "3  \\nPortrait of philosopher Pierre-Joseph Proudh...  \n",
      "4  \\nconsistent with anarchist values is a contro...  \n",
      "------------------Tail------------------\n",
      "        ARTICLE_ID              TITLE    SECTION_TITLE  \\\n",
      "265134       30475  Triboluminescence  Further reading   \n",
      "265135       30475  Triboluminescence   External links   \n",
      "265136       30476       Markov chain     Introduction   \n",
      "265137       30476       Markov chain     Introduction   \n",
      "265138       30476       Markov chain          History   \n",
      "\n",
      "                                             SECTION_TEXT  \n",
      "265134                                           * \\n* \\n  \n",
      "265135  \\n* \\n* \\n*  Triboluminescence Discussion on T...  \n",
      "265136  \\nIn probability theory and related fields, a ...  \n",
      "265137  Russian mathematician Andrey Markov.\\nA Markov...  \n",
      "265138  Andrey Markov studied Markov chains in the ear...  \n"
     ]
    }
   ],
   "source": [
    "df = pd.read_csv('enwiki.csv')\n",
    "print('------------------Head------------------')\n",
    "print(df.head())\n",
    "print('------------------Tail------------------')\n",
    "print(df.tail())"
   ]
  },
  {
   "cell_type": "markdown",
   "id": "a7f55548",
   "metadata": {},
   "source": [
    "### Remove unnecessary data from dataFrame"
   ]
  },
  {
   "cell_type": "markdown",
   "id": "795dbd54",
   "metadata": {},
   "source": [
    "# Set constrains for filtering the data"
   ]
  },
  {
   "cell_type": "code",
   "execution_count": 58,
   "id": "fc946361",
   "metadata": {},
   "outputs": [],
   "source": [
    "data_limit = 100 # 0 for all taking all data. There is exis at most 2,65,139 paragraphs \n",
    "max_sentence_lenght = 1000\n",
    "max_word_count = 100\n",
    "min_word_count = 5\n",
    "max_sentence = 1000\n",
    "vocabulary_size = 30\n",
    "window_size = 4"
   ]
  },
  {
   "cell_type": "code",
   "execution_count": 59,
   "id": "1a027071",
   "metadata": {},
   "outputs": [
    {
     "name": "stdout",
     "output_type": "stream",
     "text": [
      "Total section texts -----> 265139\n"
     ]
    }
   ],
   "source": [
    "df.drop(['ARTICLE_ID', 'TITLE', 'SECTION_TITLE'], axis=1)\n",
    "section_texts = df['SECTION_TEXT'].apply(str)\n",
    "print('Total section texts ----->', len(section_texts))"
   ]
  },
  {
   "cell_type": "code",
   "execution_count": 60,
   "id": "e6f4f6a8",
   "metadata": {},
   "outputs": [
    {
     "name": "stdout",
     "output_type": "stream",
     "text": [
      "Total section texts -----> 100\n"
     ]
    }
   ],
   "source": [
    "if data_limit != 0:\n",
    "    section_texts = section_texts[:data_limit]\n",
    "print('Total section texts ----->', len(section_texts))"
   ]
  },
  {
   "cell_type": "markdown",
   "id": "f7340200",
   "metadata": {},
   "source": [
    "### Convert text to sentences"
   ]
  },
  {
   "cell_type": "code",
   "execution_count": 61,
   "id": "c779773b",
   "metadata": {},
   "outputs": [],
   "source": [
    "sentences = []\n",
    "for texts in section_texts:\n",
    "    for sentence in sent_tokenize(texts):\n",
    "        if len(sentence) < max_sentence_lenght:\n",
    "            sentences.append(sentence.lower())"
   ]
  },
  {
   "cell_type": "code",
   "execution_count": 62,
   "id": "a62ec2df",
   "metadata": {
    "scrolled": true
   },
   "outputs": [
    {
     "name": "stdout",
     "output_type": "stream",
     "text": [
      "Total sentences 3059\n"
     ]
    }
   ],
   "source": [
    "total_sentences = len(sentences)\n",
    "print('Total sentences', total_sentences)"
   ]
  },
  {
   "cell_type": "markdown",
   "id": "929d56d9",
   "metadata": {},
   "source": [
    "### Convert sentences to words and create vocabulary with frequency"
   ]
  },
  {
   "cell_type": "code",
   "execution_count": 63,
   "id": "c794f606",
   "metadata": {
    "scrolled": true
   },
   "outputs": [],
   "source": [
    "stop_words = set(stopwords.words('english'))\n",
    "word_list = []\n",
    "vocabulary_with_frequency = {}\n",
    "\n",
    "for sentence in sentences:\n",
    "    words = word_tokenize(sentence)\n",
    "    words_without_stop_words = [word for word in words if word.isalpha() and word not in stop_words and len(word) != 1]\n",
    "    \n",
    "    word_lenght = len(words_without_stop_words)\n",
    "    if word_lenght <= max_word_count and word_lenght >= min_word_count:\n",
    "        word_list.append(words_without_stop_words)\n",
    "        \n",
    "        for word in words_without_stop_words:\n",
    "            if word not in vocabulary_with_frequency.keys():\n",
    "                vocabulary_with_frequency[word] = 1\n",
    "            else:\n",
    "                vocabulary_with_frequency[word] += 1"
   ]
  },
  {
   "cell_type": "markdown",
   "id": "0015c0bd",
   "metadata": {},
   "source": [
    "### Total words and vocabulary size"
   ]
  },
  {
   "cell_type": "code",
   "execution_count": 64,
   "id": "8c459fec",
   "metadata": {
    "scrolled": true
   },
   "outputs": [
    {
     "name": "stdout",
     "output_type": "stream",
     "text": [
      "Total words in corpus 37912\n",
      "Vocabulary size 9640\n"
     ]
    }
   ],
   "source": [
    "# After filtering the words\n",
    "total_sentences = len(word_list)\n",
    "\n",
    "total_words = 0\n",
    "for words in word_list:\n",
    "    total_words += len(words)\n",
    "print('Total words in corpus', total_words)\n",
    "print('Vocabulary size', len(vocabulary_with_frequency))"
   ]
  },
  {
   "cell_type": "code",
   "execution_count": 65,
   "id": "ebb1bcad",
   "metadata": {},
   "outputs": [],
   "source": [
    "sorted_vocabulary_with_frequency = sorted(vocabulary_with_frequency.items(), key=lambda x: x[1], reverse=True)"
   ]
  },
  {
   "cell_type": "markdown",
   "id": "450b6cc6",
   "metadata": {},
   "source": [
    "### Remove less freuquent word form dictionary and assign unique id to vocabulary word\n",
    "\n",
    "\n",
    "<br> \n",
    "Create two vocabulary.<br> \n",
    "<b>word_to_id</b> for gettig the word for an id. <br>\n",
    "<b>id_to_word</b> for gettign the id for word. <br>\n",
    "</br>\n"
   ]
  },
  {
   "cell_type": "code",
   "execution_count": 66,
   "id": "2588df39",
   "metadata": {
    "scrolled": false
   },
   "outputs": [
    {
     "name": "stdout",
     "output_type": "stream",
     "text": [
      "[(0, 'PAD'), ('lincoln', 1), ('achilles', 2), ('state', 3), ('alabama', 4), ('aristotle', 5), ('autism', 6), ('anarchist', 7), ('war', 8), ('one', 9), ('also', 10), ('first', 11), ('states', 12), ('many', 13), ('anarchism', 14)]\n",
      "-------------------------------------\n",
      "[('PAD', 0), (1, 'lincoln'), (2, 'achilles'), (3, 'state'), (4, 'alabama'), (5, 'aristotle'), (6, 'autism'), (7, 'anarchist'), (8, 'war'), (9, 'one'), (10, 'also'), (11, 'first'), (12, 'states'), (13, 'many'), (14, 'anarchism')]\n"
     ]
    }
   ],
   "source": [
    "word_to_id = {}\n",
    "word_to_id[0] = 'PAD'\n",
    "id_to_word = {}\n",
    "id_to_word['PAD'] = 0\n",
    "word_id = 1\n",
    "\n",
    "for word, _ in sorted_vocabulary_with_frequency:\n",
    "    if word_id < vocabulary_size:\n",
    "        word_to_id[word] = word_id\n",
    "        id_to_word[word_id] = word\n",
    "        word_id += 1\n",
    "        \n",
    "print(list(islice(word_to_id.items(), 15)))\n",
    "print('-------------------------------------')\n",
    "print(list(islice(id_to_word.items(), 15)))"
   ]
  },
  {
   "cell_type": "code",
   "execution_count": 67,
   "id": "92629475",
   "metadata": {},
   "outputs": [
    {
     "name": "stdout",
     "output_type": "stream",
     "text": [
      "New dictionary size 30\n"
     ]
    }
   ],
   "source": [
    "print('New dictionary size', vocabulary_size)"
   ]
  },
  {
   "cell_type": "markdown",
   "id": "82b3b870",
   "metadata": {},
   "source": [
    "### Convert word_list to word_id_list for expressign the words of a sentece using vocabulary id\n",
    "\n",
    "<br> Remove the words which are not present in dictionary</br>"
   ]
  },
  {
   "cell_type": "code",
   "execution_count": 68,
   "id": "c02693f0",
   "metadata": {
    "scrolled": false
   },
   "outputs": [
    {
     "name": "stdout",
     "output_type": "stream",
     "text": [
      "Before filtering total sentenc 2818\n",
      "Before filtering total words 37912\n",
      "--------------------------------------------\n",
      "After filtering total sentence 73\n",
      "After filtering total words 427\n"
     ]
    }
   ],
   "source": [
    "print('Before filtering total sentenc', total_sentences)\n",
    "print('Before filtering total words', total_words)\n",
    "\n",
    "sentece_word_ids = []\n",
    "total_sentences = 0\n",
    "total_words = 0\n",
    "\n",
    "for words in word_list:\n",
    "    filtered_words_ids = [word_to_id[word] for word in words if word in word_to_id.keys()]\n",
    "    words_in_current_sentece = len(filtered_words_ids)\n",
    "    \n",
    "    if words_in_current_sentece >= min_word_count:\n",
    "        total_sentences += 1\n",
    "        total_words += words_in_current_sentece\n",
    "        sentece_word_ids.append(filtered_words_ids)\n",
    "        \n",
    "print('--------------------------------------------')\n",
    "print('After filtering total sentence', total_sentences)\n",
    "print('After filtering total words', total_words)"
   ]
  },
  {
   "cell_type": "markdown",
   "id": "211b3a88",
   "metadata": {},
   "source": [
    "### Untill Now \n",
    "<br> \n",
    "<b>sentece_word_ids:</b> Sentence wise words's id. <br>\n",
    "<b>word_to_id:</b> Vocabulary for getting the <b>word_id</b> for a <b>word</b>.<br>\n",
    "<b>id_to_word:</b> Vocabulary for getting the <b>word</b> for a <b> word_id</b>.<br>\n",
    "<b>positive_skip_grams:</b> skipgrams of target and context word pairs.\n",
    "</br>"
   ]
  },
  {
   "cell_type": "code",
   "execution_count": 69,
   "id": "da05f647",
   "metadata": {
    "scrolled": false
   },
   "outputs": [
    {
     "name": "stdout",
     "output_type": "stream",
     "text": [
      "Total senteces 73\n",
      "Total words 427\n",
      "Total unique words in vocabulary 30\n"
     ]
    }
   ],
   "source": [
    "print('Total senteces', total_sentences)\n",
    "print('Total words', total_words)\n",
    "vocabulary_size = len(word_to_id)\n",
    "print('Total unique words in vocabulary', vocabulary_size)"
   ]
  },
  {
   "cell_type": "markdown",
   "id": "a1bedcf3",
   "metadata": {},
   "source": [
    "### Save data for later use\n",
    "<br> It will help use to skip the data processing step"
   ]
  },
  {
   "cell_type": "code",
   "execution_count": 70,
   "id": "78be2c20",
   "metadata": {},
   "outputs": [],
   "source": [
    "def save_data(data, to_file):\n",
    "    if os.path.exists(to_file+'.yaml'):\n",
    "        os.remove(to_file+'.yaml')\n",
    "    \n",
    "    with open(to_file+'.yaml', 'w') as file:\n",
    "        documents = yaml.dump(data, file, sort_keys=False)\n",
    "    \n",
    "def load_data(from_file):\n",
    "    with open(from_file+'.yaml') as file:\n",
    "        return yaml.load(file, Loader=yaml.FullLoader)"
   ]
  },
  {
   "cell_type": "markdown",
   "id": "a2f7c7fc",
   "metadata": {},
   "source": [
    "### Save"
   ]
  },
  {
   "cell_type": "code",
   "execution_count": 71,
   "id": "b0f86fad",
   "metadata": {},
   "outputs": [],
   "source": [
    "# save_data(word_to_id, 'word_to_id')\n",
    "# save_data(id_to_word, 'id_to_word')\n",
    "# save_data(sentece_word_ids, 'sentece_word_ids')\n",
    "# # save_data(positive_skip_grams, 'positive_skip_grams')"
   ]
  },
  {
   "cell_type": "markdown",
   "id": "ca271ed1",
   "metadata": {},
   "source": [
    "# ⚠️⚠️⚠️ Reset Everything ⚠️⚠️⚠️"
   ]
  },
  {
   "cell_type": "code",
   "execution_count": 72,
   "id": "2dd4a9ef",
   "metadata": {},
   "outputs": [],
   "source": [
    "# %reset"
   ]
  },
  {
   "cell_type": "markdown",
   "id": "b7b8e0a5",
   "metadata": {},
   "source": [
    "# Start again 🏃‍♂️🏃‍♂️🏃‍♂️"
   ]
  },
  {
   "cell_type": "code",
   "execution_count": 73,
   "id": "6ee5f918",
   "metadata": {},
   "outputs": [],
   "source": [
    "# import numpy as np\n",
    "# import pandas as pd\n",
    "# import sys\n",
    "# import yaml\n",
    "# import os\n",
    "# import io\n",
    "\n",
    "# import nltk\n",
    "# from nltk.corpus import PlaintextCorpusReader\n",
    "# from nltk.tokenize import word_tokenize\n",
    "# from nltk.tokenize import sent_tokenize\n",
    "# from nltk.corpus import stopwords\n",
    "\n",
    "# import tensorflow as tf\n",
    "# from tensorflow import keras\n",
    "\n",
    "# from tensorflow.keras import layers\n",
    "# from keras.preprocessing import text\n",
    "\n",
    "# from itertools import islice\n",
    "# from sklearn.model_selection import train_test_split\n",
    "\n",
    "# from tensorflow.keras.layers import Embedding, Input, Dense, Dropout\n",
    "# from tensorflow.keras.models import Model\n",
    "# from tensorflow.keras import losses, optimizers\n",
    "# from tensorflow.keras.activations import softmax"
   ]
  },
  {
   "cell_type": "code",
   "execution_count": 74,
   "id": "bbfdc047",
   "metadata": {},
   "outputs": [],
   "source": [
    "def save_data(data, to_file):\n",
    "    if os.path.exists(to_file+'.yaml'):\n",
    "        os.remove('id_to_word.yaml')\n",
    "    \n",
    "    with open(to_file+'.yaml', 'w') as file:\n",
    "        documents = yaml.dump(data, file, sort_keys=False)\n",
    "    \n",
    "def load_data(from_file):\n",
    "    with open(from_file+'.yaml') as file:\n",
    "        return yaml.load(file, Loader=yaml.FullLoader)"
   ]
  },
  {
   "cell_type": "markdown",
   "id": "2e5b374e",
   "metadata": {},
   "source": [
    "### Load data"
   ]
  },
  {
   "cell_type": "code",
   "execution_count": 75,
   "id": "1927780d",
   "metadata": {},
   "outputs": [],
   "source": [
    "# id_to_word = load_data('id_to_word')\n",
    "# word_to_id = load_data('word_to_id')\n",
    "# sentece_word_ids = load_data('sentece_word_ids')\n",
    "# # positive_skip_grams = load_data('positive_skip_grams')\n",
    "# vocabulary_size = len(word_to_id)"
   ]
  },
  {
   "cell_type": "markdown",
   "id": "4de1005f",
   "metadata": {},
   "source": [
    "#### Example after loadign data"
   ]
  },
  {
   "cell_type": "code",
   "execution_count": 76,
   "id": "ec6d81a6",
   "metadata": {
    "scrolled": true
   },
   "outputs": [
    {
     "name": "stdout",
     "output_type": "stream",
     "text": [
      "[('PAD', 0), (1, 'lincoln'), (2, 'achilles'), (3, 'state'), (4, 'alabama'), (5, 'aristotle'), (6, 'autism'), (7, 'anarchist'), (8, 'war'), (9, 'one')]\n",
      "------------------------------------------\n",
      "[(0, 'PAD'), ('lincoln', 1), ('achilles', 2), ('state', 3), ('alabama', 4), ('aristotle', 5), ('autism', 6), ('anarchist', 7), ('war', 8), ('one', 9)]\n",
      "------------------------------------------\n",
      "[[15, 13, 28, 18, 7, 7, 14], [29, 14, 29, 27, 12, 27, 12], [3, 7, 20, 3, 11, 20], [7, 14, 23, 16, 14], [7, 7, 14, 18, 18]]\n",
      "------------------------------------------\n"
     ]
    }
   ],
   "source": [
    "print(list(islice(id_to_word.items(), 10)))\n",
    "print('------------------------------------------')\n",
    "print(list(islice(word_to_id.items(), 10)))\n",
    "print('------------------------------------------')\n",
    "print(sentece_word_ids[:5])\n",
    "print('------------------------------------------')"
   ]
  },
  {
   "cell_type": "code",
   "execution_count": 77,
   "id": "adc2d5c3",
   "metadata": {},
   "outputs": [
    {
     "name": "stdout",
     "output_type": "stream",
     "text": [
      "[PhysicalDevice(name='/physical_device:GPU:0', device_type='GPU')]\n"
     ]
    }
   ],
   "source": [
    "physical_devices = tf.config.list_physical_devices('GPU')\n",
    "print(physical_devices)\n",
    "tf.config.experimental.set_memory_growth(physical_devices[0], True)"
   ]
  },
  {
   "cell_type": "markdown",
   "id": "929921f9",
   "metadata": {},
   "source": [
    "### Generate 2D `vocabulary_size` list for getting the one-hot vector for a index"
   ]
  },
  {
   "cell_type": "code",
   "execution_count": 78,
   "id": "d093fa20",
   "metadata": {},
   "outputs": [],
   "source": [
    "one_hot = [[0 for i in range(vocabulary_size)] for j in range(vocabulary_size)]\n",
    "\n",
    "for index in range(1, vocabulary_size):\n",
    "    one_hot[index][index] = 1"
   ]
  },
  {
   "cell_type": "markdown",
   "id": "5de79e51",
   "metadata": {},
   "source": [
    "# `Model - I`"
   ]
  },
  {
   "cell_type": "markdown",
   "id": "b3e3e0dd",
   "metadata": {},
   "source": [
    "### Create (taget, context) pair for all of the words and convert them into one-hot encoding"
   ]
  },
  {
   "cell_type": "code",
   "execution_count": 79,
   "id": "9aea7804",
   "metadata": {
    "scrolled": true
   },
   "outputs": [
    {
     "name": "stdout",
     "output_type": "stream",
     "text": [
      "(1956, 30)\n",
      "30\n"
     ]
    }
   ],
   "source": [
    "X = []\n",
    "Y = []\n",
    "\n",
    "for ids in sentece_word_ids:\n",
    "    skip, _ = tf.keras.preprocessing.sequence.skipgrams(\n",
    "        ids,\n",
    "        vocabulary_size,\n",
    "        window_size=window_size, negative_samples=0,\n",
    "        shuffle=False,\n",
    "        categorical=True)\n",
    "    for target, context in skip:\n",
    "        X.append(one_hot[target])\n",
    "        Y.append(one_hot[context])\n",
    "print(np.array(X).shape)\n",
    "print(vocabulary_size)"
   ]
  },
  {
   "cell_type": "markdown",
   "id": "78a2d480",
   "metadata": {},
   "source": [
    "### Split training testing "
   ]
  },
  {
   "cell_type": "code",
   "execution_count": 80,
   "id": "c54b3242",
   "metadata": {},
   "outputs": [],
   "source": [
    "X_train, X_test, Y_train, Y_test = train_test_split(X, Y, test_size=0.2, random_state=42)"
   ]
  },
  {
   "cell_type": "markdown",
   "id": "858d9a7d",
   "metadata": {},
   "source": [
    "### Pairwise target, context model\n",
    "<br>\n",
    "Input target word in one-hot encoding format. <br>\n",
    "Output context word of corespoding target word in one-hot encoding format. <br>\n",
    "\n",
    "All of the targets and their corresponding context words are fitting at once. \n",
    "<br>"
   ]
  },
  {
   "cell_type": "code",
   "execution_count": 154,
   "id": "3d52257e",
   "metadata": {
    "scrolled": true
   },
   "outputs": [
    {
     "name": "stdout",
     "output_type": "stream",
     "text": [
      "Model: \"model_9\"\n",
      "_________________________________________________________________\n",
      "Layer (type)                 Output Shape              Param #   \n",
      "=================================================================\n",
      "input_10 (InputLayer)        [(None, 30)]              0         \n",
      "_________________________________________________________________\n",
      "w2v_embedding (Dense)        (None, 200)               6200      \n",
      "_________________________________________________________________\n",
      "dense_9 (Dense)              (None, 30)                6030      \n",
      "=================================================================\n",
      "Total params: 12,230\n",
      "Trainable params: 12,230\n",
      "Non-trainable params: 0\n",
      "_________________________________________________________________\n"
     ]
    }
   ],
   "source": [
    "inp = Input(shape=(vocabulary_size, ))\n",
    "x = Dense(200, name='w2v_embedding')(inp)\n",
    "x = Dense(vocabulary_size, activation='softmax')(x)\n",
    "\n",
    "model_pair = Model(inputs=inp, outputs=x)\n",
    "model_pair.summary()"
   ]
  },
  {
   "cell_type": "code",
   "execution_count": 82,
   "id": "b298f364",
   "metadata": {},
   "outputs": [
    {
     "name": "stdout",
     "output_type": "stream",
     "text": [
      "Epoch 1/3\n",
      " 24/782 [..............................] - ETA: 3s - loss: 3.3802 - accuracy: 0.1042    "
     ]
    },
    {
     "name": "stderr",
     "output_type": "stream",
     "text": [
      "2021-11-18 00:34:59.508107: I tensorflow/core/grappler/optimizers/custom_graph_optimizer_registry.cc:112] Plugin optimizer for device_type GPU is enabled.\n"
     ]
    },
    {
     "name": "stdout",
     "output_type": "stream",
     "text": [
      "782/782 [==============================] - 4s 4ms/step - loss: 2.8350 - accuracy: 0.2602\n",
      "Epoch 2/3\n",
      "782/782 [==============================] - 4s 4ms/step - loss: 2.4257 - accuracy: 0.3191\n",
      "Epoch 3/3\n",
      "782/782 [==============================] - 4s 5ms/step - loss: 2.3456 - accuracy: 0.3146\n"
     ]
    },
    {
     "data": {
      "text/plain": [
       "<keras.callbacks.History at 0x2990045e0>"
      ]
     },
     "execution_count": 82,
     "metadata": {},
     "output_type": "execute_result"
    }
   ],
   "source": [
    "model_pair.compile(loss=losses.categorical_crossentropy, optimizer='adam', metrics=['accuracy'])\n",
    "model_pair.fit(X_train, Y_train, epochs = 3, batch_size=2, verbose=1, shuffle=True)"
   ]
  },
  {
   "cell_type": "markdown",
   "id": "61167fd7",
   "metadata": {},
   "source": [
    "### Store the vector and metadata for Model-1"
   ]
  },
  {
   "cell_type": "code",
   "execution_count": 83,
   "id": "00715211",
   "metadata": {},
   "outputs": [],
   "source": [
    "weights = model.get_layer('w2v_embedding').get_weights()[0]\n",
    "if os.path.exists('metadata.tsv'):\n",
    "        os.remove('metadata.tsv')\n",
    "        \n",
    "if os.path.exists('vectors.tsv'):\n",
    "        os.remove('vectors.tsv')\n",
    "        \n",
    "out_v = io.open('vectors.tsv', 'w', encoding='utf-8')\n",
    "out_m = io.open('metadata.tsv', 'w', encoding='utf-8')\n",
    "\n",
    "for index in range(1, vocabulary_size):\n",
    "    vec = weights[index]\n",
    "    out_v.write('\\t'.join([str(x) for x in vec]) + \"\\n\")\n",
    "    out_m.write(id_to_word[index] + \"\\n\")\n",
    "out_v.close()\n",
    "out_m.close()"
   ]
  },
  {
   "cell_type": "code",
   "execution_count": 84,
   "id": "f0636d03",
   "metadata": {},
   "outputs": [
    {
     "name": "stdout",
     "output_type": "stream",
     "text": [
      "End Model-1\n"
     ]
    }
   ],
   "source": [
    "print('End Model-1')"
   ]
  },
  {
   "cell_type": "markdown",
   "id": "f4465d45",
   "metadata": {},
   "source": [
    "# Data Processing for the CBOW and SKIP-GRAMS"
   ]
  },
  {
   "cell_type": "markdown",
   "id": "ecfe7554",
   "metadata": {},
   "source": [
    "<br> This function creates the target words and all of it's corrosponding context words.<br>\n",
    "return:<br>\n",
    "------<b>target_id:</b> id of the target word without encoding.<br>\n",
    "------<b>context_ids:</b> All of the context words for a target_id<br>\n",
    "\n",
    "<b>Note:</b> Zero padding is being used for returing total `window_size * 2` context words for a target word.<br>\n",
    "<br>"
   ]
  },
  {
   "cell_type": "code",
   "execution_count": 85,
   "id": "d003cf54",
   "metadata": {},
   "outputs": [],
   "source": [
    "from keras.preprocessing.sequence import pad_sequences\n",
    "\n",
    "def get_target_contexts(word_ids, window_size):\n",
    "    target_id = []\n",
    "    context_ids = []\n",
    "\n",
    "    one_hot_target_id = []\n",
    "    one_hot_context_ids = []\n",
    "\n",
    "    for ids in word_ids:\n",
    "        for index, word_id in enumerate(ids):\n",
    "            if not word_id:\n",
    "                continue\n",
    "                \n",
    "            window_start = max(0, index - window_size)\n",
    "            window_end = min(len(ids), index + window_size + 1)\n",
    "            \n",
    "            target_id.append(word_id)\n",
    "            context_ids.append([ids[window_index] for window_index in range(window_start, window_end) if window_index != index])\n",
    "\n",
    "    return target_id, pad_sequences(context_ids, maxlen = window_size * 2)"
   ]
  },
  {
   "cell_type": "code",
   "execution_count": 86,
   "id": "01d545b4",
   "metadata": {},
   "outputs": [],
   "source": [
    "target_id, context_ids =  get_target_contexts(sentece_word_ids, window_size)"
   ]
  },
  {
   "cell_type": "markdown",
   "id": "f9f3453c",
   "metadata": {},
   "source": [
    "### Express `target_id` &  `context_ids` using one-hot encoding "
   ]
  },
  {
   "cell_type": "code",
   "execution_count": 87,
   "id": "26160bfb",
   "metadata": {},
   "outputs": [],
   "source": [
    "one_hot_target_id = [one_hot[id] for id in target_id]\n",
    "one_hot_context_ids = []\n",
    "\n",
    "for context_id in context_ids:\n",
    "    one_hot_context_ids.append([one_hot[id] for id in context_id])"
   ]
  },
  {
   "cell_type": "code",
   "execution_count": 88,
   "id": "7bdb3916",
   "metadata": {},
   "outputs": [],
   "source": [
    "X = []\n",
    "for context in one_hot_context_ids:\n",
    "    row = [0] * vocabulary_size\n",
    "    for word in context:\n",
    "        for idx in range(vocabulary_size):\n",
    "            row[idx] += word[idx]\n",
    "    X.append(row)"
   ]
  },
  {
   "cell_type": "markdown",
   "id": "3fff14e2",
   "metadata": {},
   "source": [
    "# CBOW"
   ]
  },
  {
   "cell_type": "code",
   "execution_count": 89,
   "id": "2fef3fd7",
   "metadata": {},
   "outputs": [],
   "source": [
    "class Average(keras.layers.Layer):\n",
    "    def __init__(self, units=32, input_dim=32):\n",
    "        super(Average, self).__init__()\n",
    "\n",
    "    def call(self, inputs):\n",
    "        return tf.math.divide(inputs, window_size*2)"
   ]
  },
  {
   "cell_type": "code",
   "execution_count": 90,
   "id": "a15ab51b",
   "metadata": {},
   "outputs": [
    {
     "name": "stdout",
     "output_type": "stream",
     "text": [
      "Model: \"model_6\"\n",
      "_________________________________________________________________\n",
      "Layer (type)                 Output Shape              Param #   \n",
      "=================================================================\n",
      "input_7 (InputLayer)         [(None, 30)]              0         \n",
      "_________________________________________________________________\n",
      "w2v_embedding (Dense)        (None, 200)               6200      \n",
      "_________________________________________________________________\n",
      "average_2 (Average)          (None, 200)               0         \n",
      "_________________________________________________________________\n",
      "dense_6 (Dense)              (None, 30)                6030      \n",
      "=================================================================\n",
      "Total params: 12,230\n",
      "Trainable params: 12,230\n",
      "Non-trainable params: 0\n",
      "_________________________________________________________________\n"
     ]
    }
   ],
   "source": [
    "inp = Input(shape=(vocabulary_size, ))\n",
    "x = Dense(200, name='w2v_embedding')(inp)\n",
    "x = Average(200)(x)\n",
    "x = Dense(vocabulary_size, activation='softmax')(x)\n",
    "\n",
    "model_cbow = Model(inputs=inp, outputs=x)\n",
    "model_cbow.summary()"
   ]
  },
  {
   "cell_type": "code",
   "execution_count": 99,
   "id": "91b7d7be",
   "metadata": {},
   "outputs": [
    {
     "name": "stdout",
     "output_type": "stream",
     "text": [
      "Epoch 1/3\n",
      "9/9 [==============================] - 0s 7ms/step - loss: 3.0155 - accuracy: 0.3630\n",
      "Epoch 2/3\n",
      "9/9 [==============================] - 0s 6ms/step - loss: 2.9741 - accuracy: 0.3770\n",
      "Epoch 3/3\n",
      "1/9 [==>...........................] - ETA: 0s - loss: 2.9809 - accuracy: 0.3400"
     ]
    },
    {
     "name": "stderr",
     "output_type": "stream",
     "text": [
      "2021-11-18 00:37:39.747085: I tensorflow/core/grappler/optimizers/custom_graph_optimizer_registry.cc:112] Plugin optimizer for device_type GPU is enabled.\n"
     ]
    },
    {
     "name": "stdout",
     "output_type": "stream",
     "text": [
      "9/9 [==============================] - 0s 6ms/step - loss: 2.9372 - accuracy: 0.3770\n"
     ]
    },
    {
     "data": {
      "text/plain": [
       "<keras.callbacks.History at 0x1547b60a0>"
      ]
     },
     "execution_count": 99,
     "metadata": {},
     "output_type": "execute_result"
    }
   ],
   "source": [
    "model_cbow.compile(loss=losses.categorical_crossentropy, optimizer='adam', metrics=['accuracy'])\n",
    "model_cbow.fit(X, one_hot_target_id, epochs = 3, batch_size=50, verbose=1, shuffle=False)"
   ]
  },
  {
   "cell_type": "markdown",
   "id": "80056fa0",
   "metadata": {},
   "source": [
    "## SKIP-GRAMS"
   ]
  },
  {
   "cell_type": "code",
   "execution_count": 148,
   "id": "143d425c",
   "metadata": {},
   "outputs": [],
   "source": [
    "X_flatten = [sum(one_hot_context_id, []) for one_hot_context_id in one_hot_context_ids]"
   ]
  },
  {
   "cell_type": "code",
   "execution_count": 152,
   "id": "b9883fad",
   "metadata": {
    "scrolled": true
   },
   "outputs": [
    {
     "name": "stdout",
     "output_type": "stream",
     "text": [
      "Model: \"model_8\"\n",
      "_________________________________________________________________\n",
      "Layer (type)                 Output Shape              Param #   \n",
      "=================================================================\n",
      "input_9 (InputLayer)         [(None, 30)]              0         \n",
      "_________________________________________________________________\n",
      "w2v_embedding (Dense)        (None, 200)               6200      \n",
      "_________________________________________________________________\n",
      "dense_8 (Dense)              (None, 240)               48240     \n",
      "=================================================================\n",
      "Total params: 54,440\n",
      "Trainable params: 54,440\n",
      "Non-trainable params: 0\n",
      "_________________________________________________________________\n"
     ]
    }
   ],
   "source": [
    "inp = Input(shape=(vocabulary_size, ))\n",
    "x = Dense(200, name='w2v_embedding')(inp)\n",
    "x = Dense(vocabulary_size * window_size * 2, activation='softmax')(x)\n",
    "model_skip = Model(inputs=inp, outputs=x)\n",
    "model_skip.summary()"
   ]
  },
  {
   "cell_type": "code",
   "execution_count": 153,
   "id": "f199d529",
   "metadata": {},
   "outputs": [
    {
     "name": "stdout",
     "output_type": "stream",
     "text": [
      "Epoch 1/5\n",
      "9/9 [==============================] - 0s 8ms/step - loss: 25.1204 - accuracy: 0.0000e+00\n",
      "Epoch 2/5\n",
      "9/9 [==============================] - 0s 6ms/step - loss: 24.8644 - accuracy: 0.0023\n",
      "Epoch 3/5\n",
      "1/9 [==>...........................] - ETA: 0s - loss: 24.0588 - accuracy: 0.0200"
     ]
    },
    {
     "name": "stderr",
     "output_type": "stream",
     "text": [
      "2021-11-18 01:16:01.105933: I tensorflow/core/grappler/optimizers/custom_graph_optimizer_registry.cc:112] Plugin optimizer for device_type GPU is enabled.\n"
     ]
    },
    {
     "name": "stdout",
     "output_type": "stream",
     "text": [
      "9/9 [==============================] - 0s 6ms/step - loss: 24.6322 - accuracy: 0.0047\n",
      "Epoch 4/5\n",
      "9/9 [==============================] - 0s 6ms/step - loss: 24.3785 - accuracy: 0.0047\n",
      "Epoch 5/5\n",
      "9/9 [==============================] - 0s 6ms/step - loss: 24.0882 - accuracy: 0.0047\n"
     ]
    },
    {
     "data": {
      "text/plain": [
       "<keras.callbacks.History at 0x29ca91970>"
      ]
     },
     "execution_count": 153,
     "metadata": {},
     "output_type": "execute_result"
    }
   ],
   "source": [
    "model_skip.compile(loss=losses.categorical_crossentropy, optimizer='adam', metrics=['accuracy'])\n",
    "model_skip.fit(one_hot_target_id, X_flatten, epochs = 5, batch_size=50, verbose=1, shuffle=False)"
   ]
  },
  {
   "cell_type": "code",
   "execution_count": null,
   "id": "bcc84ff4",
   "metadata": {},
   "outputs": [],
   "source": []
  }
 ],
 "metadata": {
  "kernelspec": {
   "display_name": "Python [conda env:tensorflowEnv] *",
   "language": "python",
   "name": "conda-env-tensorflowEnv-py"
  },
  "language_info": {
   "codemirror_mode": {
    "name": "ipython",
    "version": 3
   },
   "file_extension": ".py",
   "mimetype": "text/x-python",
   "name": "python",
   "nbconvert_exporter": "python",
   "pygments_lexer": "ipython3",
   "version": "3.8.12"
  }
 },
 "nbformat": 4,
 "nbformat_minor": 5
}
